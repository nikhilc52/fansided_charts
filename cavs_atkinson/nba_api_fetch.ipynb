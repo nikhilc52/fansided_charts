{
 "cells": [
  {
   "cell_type": "code",
   "execution_count": 2,
   "metadata": {},
   "outputs": [],
   "source": [
    "from nba_api.stats.static import teams\n",
    "\n",
    "teams = pd.DataFrame(teams.get_teams())[['id','full_name']]"
   ]
  },
  {
   "cell_type": "code",
   "execution_count": 19,
   "metadata": {},
   "outputs": [
    {
     "name": "stdout",
     "output_type": "stream",
     "text": [
      "Atlanta Hawks\n",
      "Boston Celtics\n",
      "Cleveland Cavaliers\n",
      "New Orleans Pelicans\n",
      "Chicago Bulls\n",
      "Dallas Mavericks\n",
      "Denver Nuggets\n",
      "Golden State Warriors\n",
      "Houston Rockets\n",
      "Los Angeles Clippers\n",
      "Los Angeles Lakers\n",
      "Miami Heat\n",
      "Milwaukee Bucks\n",
      "Minnesota Timberwolves\n",
      "Brooklyn Nets\n",
      "New York Knicks\n",
      "Orlando Magic\n",
      "Indiana Pacers\n",
      "Philadelphia 76ers\n",
      "Phoenix Suns\n",
      "Portland Trail Blazers\n",
      "Sacramento Kings\n",
      "San Antonio Spurs\n",
      "Oklahoma City Thunder\n",
      "Toronto Raptors\n",
      "Utah Jazz\n",
      "Memphis Grizzlies\n",
      "Washington Wizards\n",
      "Detroit Pistons\n",
      "Charlotte Hornets\n"
     ]
    }
   ],
   "source": [
    "from nba_api.stats.endpoints import teamdashboardbygeneralsplits\n",
    "import pandas as pd\n",
    "import time\n",
    "\n",
    "dfs = {}\n",
    "\n",
    "for i in range(30):\n",
    "    time.sleep(.600)\n",
    "    response = teamdashboardbygeneralsplits.TeamDashboardByGeneralSplits(\n",
    "        team_id=teams['id'][i],\n",
    "        season=\"2021-22\",\n",
    "        season_type_all_star='Regular Season',\n",
    "        measure_type_detailed_defense=\"Advanced\"\n",
    "    )\n",
    "    dfs[i] = pd.DataFrame(response.get_data_frames()[0])\n",
    "    dfs[i]['Team'] = teams['full_name'][i]\n",
    "    print(teams['full_name'][i])\n",
    "\n",
    "df_list_2021 = []\n",
    "for i in dfs.items():\n",
    "    df_list_2021.append(i[1])"
   ]
  },
  {
   "cell_type": "code",
   "execution_count": 20,
   "metadata": {},
   "outputs": [],
   "source": [
    "df_2016 = pd.concat(df_list,ignore_index=True)\n",
    "df_2017 = pd.concat(df_list_2017,ignore_index=True)\n",
    "df_2018 = pd.concat(df_list_2018,ignore_index=True)\n",
    "df_2019 = pd.concat(df_list_2019,ignore_index=True)\n",
    "\n",
    "df_2020 = pd.concat(df_list_2020,ignore_index=True)\n",
    "df_2021 = pd.concat(df_list_2021,ignore_index=True)\n",
    "\n",
    "df_2022 = pd.concat(df_list_2022,ignore_index=True)\n",
    "df_2023 = pd.concat(df_list_2023,ignore_index=True)\n",
    "\n",
    "combined_df = pd.concat([df_2016, df_2017, df_2018, df_2019, df_2020, df_2021, df_2022, df_2023],ignore_index=True)\n",
    "combined_df.to_csv('team_pace_data.csv')"
   ]
  }
 ],
 "metadata": {
  "kernelspec": {
   "display_name": "Python 3",
   "language": "python",
   "name": "python3"
  },
  "language_info": {
   "codemirror_mode": {
    "name": "ipython",
    "version": 3
   },
   "file_extension": ".py",
   "mimetype": "text/x-python",
   "name": "python",
   "nbconvert_exporter": "python",
   "pygments_lexer": "ipython3",
   "version": "3.12.4"
  }
 },
 "nbformat": 4,
 "nbformat_minor": 2
}
